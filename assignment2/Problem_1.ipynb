{
 "cells": [
  {
   "cell_type": "markdown",
   "metadata": {},
   "source": [
    "# Problem 1: Language Modeling with RNNs\n",
    "* <b>Learning Objective:</b> In this problem, you are going to implement simple recurrent neural networks to deeply understand how RNNs works.\n",
    "* <b>Provided Code:</b> We provide the skeletons of classes you need to complete. Forward checking and gradient checkings are provided for verifying your implementation as well.\n",
    "* <b>TODOs:</b> you will implement a LSTM and use them it to train a model that can generate text using your own text source (novel, lyrics etc). <b>Also please do not forget to answer to the two inline questions before LSTM.</b>"
   ]
  },
  {
   "cell_type": "code",
   "execution_count": 1,
   "metadata": {
    "collapsed": true
   },
   "outputs": [],
   "source": [
    "from lib.rnn import *\n",
    "from lib.layer_utils import *\n",
    "from lib.grad_check import *\n",
    "from lib.optim import *\n",
    "from lib.train import *\n",
    "import numpy as np\n",
    "import matplotlib.pyplot as plt\n",
    "\n",
    "%matplotlib inline\n",
    "plt.rcParams['figure.figsize'] = (10.0, 8.0) # set default size of plots\n",
    "plt.rcParams['image.interpolation'] = 'nearest'\n",
    "plt.rcParams['image.cmap'] = 'gray'\n",
    "\n",
    "# for auto-reloading external modules\n",
    "# see http://stackoverflow.com/questions/1907993/autoreload-of-modules-in-ipython\n",
    "%load_ext autoreload\n",
    "%autoreload 2"
   ]
  },
  {
   "cell_type": "markdown",
   "metadata": {},
   "source": [
    "# Recurrent Neural Networks\n",
    "We will use recurrent neural network (RNN) language models for text generation. The file `lib/layer_utils.py` contains implementations of different layer types that are needed for recurrent neural networks, and the file `lib/rnn.py` uses these layers to implement an text generation model.\n",
    "\n",
    "We will implement LSTM layers in `lib/layer_utils.py`. As a reference, you are given complete codes for other layers including a vanilla RNN. Let's first look through the vanilla RNN, and other layers you may need for language modeling. The first part doesn't involve any coding. You can simply check the codes and run to make sure everything works as you expect."
   ]
  },
  {
   "cell_type": "markdown",
   "metadata": {},
   "source": [
    "# Vanilla RNN: step forward\n",
    "Open the file `lib/layer_utils.py`. This file implements the forward and backward passes for different types of layers that are commonly used in recurrent neural networks.\n",
    "\n",
    "First check the implementation of the function `step_forward` which implements the forward pass for a single timestep of a vanilla recurrent neural network. We provide this function for you. After doing so run the following code. You should see errors less than 1e-8."
   ]
  },
  {
   "cell_type": "code",
   "execution_count": 2,
   "metadata": {},
   "outputs": [
    {
     "name": "stdout",
     "output_type": "stream",
     "text": [
      "next_h error:  6.29242142647e-09\n"
     ]
    }
   ],
   "source": [
    "N, D, H = 3, 10, 4\n",
    "\n",
    "rnn = VanillaRNN(D, H, init_scale=0.02, name=\"rnn_test\")\n",
    "x = np.linspace(-0.4, 0.7, num=N*D).reshape(N, D) # N is batch, D is dimention of x, H is hidden nodes\n",
    "prev_h = np.linspace(-0.2, 0.5, num=N*H).reshape(N, H)\n",
    "\n",
    "rnn.params[rnn.wx_name] = np.linspace(-0.1, 0.9, num=D*H).reshape(D, H)\n",
    "rnn.params[rnn.wh_name] = np.linspace(-0.3, 0.7, num=H*H).reshape(H, H)\n",
    "rnn.params[rnn.b_name] = np.linspace(-0.2, 0.4, num=H)\n",
    "\n",
    "#   ht=tanh(Whh*ht−1 + Wxh*xt) + b \n",
    "next_h, _ = rnn.step_forward(x, prev_h)\n",
    "expected_next_h = np.asarray([\n",
    "  [-0.58172089, -0.50182032, -0.41232771, -0.31410098],\n",
    "  [ 0.66854692,  0.79562378,  0.87755553,  0.92795967],\n",
    "  [ 0.97934501,  0.99144213,  0.99646691,  0.99854353]])\n",
    "\n",
    "print('next_h error: ', rel_error(expected_next_h, next_h))"
   ]
  },
  {
   "cell_type": "markdown",
   "metadata": {},
   "source": [
    "# Vanilla RNN: step backward\n",
    "In the `VanillaRNN` class in the file `lib/layer_utils.py` check the `step_backward` function. After doing so run the following to numerically gradient check the implementation. You should see errors less than `1e-8`."
   ]
  },
  {
   "cell_type": "code",
   "execution_count": 3,
   "metadata": {},
   "outputs": [
    {
     "name": "stdout",
     "output_type": "stream",
     "text": [
      "dx error:  5.51973476881e-11\n",
      "dprev_h error:  5.79650093437e-10\n",
      "dWx error:  5.00907687861e-10\n",
      "dWh error:  1.5358866437e-10\n",
      "db error:  2.01717647044e-11\n"
     ]
    }
   ],
   "source": [
    "np.random.seed(599)\n",
    "N, D, H = 4, 5, 6\n",
    "\n",
    "rnn = VanillaRNN(D, H, init_scale=0.02, name=\"rnn_test\")\n",
    "\n",
    "x = np.random.randn(N, D)\n",
    "h = np.random.randn(N, H)\n",
    "Wx = np.random.randn(D, H)\n",
    "Wh = np.random.randn(H, H)\n",
    "b = np.random.randn(H)\n",
    "\n",
    "rnn.params[rnn.wx_name] = Wx\n",
    "rnn.params[rnn.wh_name] = Wh\n",
    "rnn.params[rnn.b_name] = b\n",
    "\n",
    "out, meta = rnn.step_forward(x, h) # out means y, meta is [x, prev_h, next_h]\n",
    "\n",
    "dnext_h = np.random.randn(*out.shape) # in python *arg can pass the variables: *out.shape = N, H\n",
    "                                      # === np.random.randn(N, H)\n",
    "dx_num = eval_numerical_gradient_array(lambda x: rnn.step_forward(x, h)[0], x, dnext_h)\n",
    "# def eval_numerical_gradient_array(f, x, df, h=1e-5) from grad_check.py,  df <-> dnext_h\n",
    "dprev_h_num = eval_numerical_gradient_array(lambda h: rnn.step_forward(x, h)[0], h, dnext_h)\n",
    "dWx_num = eval_numerical_gradient_array(lambda Wx: rnn.step_forward(x, h)[0], Wx, dnext_h)\n",
    "dWh_num = eval_numerical_gradient_array(lambda Wh: rnn.step_forward(x, h)[0], Wh, dnext_h)\n",
    "db_num = eval_numerical_gradient_array(lambda b: rnn.step_forward(x, h)[0], b, dnext_h)\n",
    "\n",
    "dx, dprev_h, dWx, dWh, db = rnn.step_backward(dnext_h, meta)\n",
    "\n",
    "print('dx error: ', rel_error(dx_num, dx))\n",
    "print('dprev_h error: ', rel_error(dprev_h_num, dprev_h))\n",
    "print('dWx error: ', rel_error(dWx_num, dWx))\n",
    "print('dWh error: ', rel_error(dWh_num, dWh))\n",
    "print('db error: ', rel_error(db_num, db))"
   ]
  },
  {
   "cell_type": "markdown",
   "metadata": {},
   "source": [
    "# Vanilla RNN: forward\n",
    "Now that you have checked the forward and backward passes for a single timestep of a vanilla RNN, you will see how they are combined to implement a RNN that process an entire sequence of data.\n",
    "\n",
    "In the `VanillaRNN` class in the file `lib/layer_utils.py`, check the function `forward`. We provide this function for you. This is implemented using the `step_forward` function that you defined above. After doing so run the following to check the implementation. You should see errors less than `1e-7`."
   ]
  },
  {
   "cell_type": "code",
   "execution_count": 4,
   "metadata": {},
   "outputs": [
    {
     "name": "stdout",
     "output_type": "stream",
     "text": [
      "h error:  7.72846615101e-08\n"
     ]
    }
   ],
   "source": [
    "N, T, D, H = 2, 3, 4, 5\n",
    "\n",
    "rnn = VanillaRNN(D, H, init_scale=0.02, name=\"rnn_test\")\n",
    "\n",
    "x = np.linspace(-0.1, 0.3, num=N*T*D).reshape(N, T, D)\n",
    "h0 = np.linspace(-0.3, 0.1, num=N*H).reshape(N, H)\n",
    "Wx = np.linspace(-0.2, 0.4, num=D*H).reshape(D, H)\n",
    "Wh = np.linspace(-0.4, 0.1, num=H*H).reshape(H, H)\n",
    "b = np.linspace(-0.7, 0.1, num=H)\n",
    "\n",
    "rnn.params[rnn.wx_name] = Wx\n",
    "rnn.params[rnn.wh_name] = Wh\n",
    "rnn.params[rnn.b_name] = b\n",
    "\n",
    "h = rnn.forward(x, h0)\n",
    "expected_h = np.asarray([\n",
    "  [\n",
    "    [-0.42070749, -0.27279261, -0.11074945,  0.05740409,  0.22236251],\n",
    "    [-0.39525808, -0.22554661, -0.0409454,   0.14649412,  0.32397316],\n",
    "    [-0.42305111, -0.24223728, -0.04287027,  0.15997045,  0.35014525],\n",
    "  ],\n",
    "  [\n",
    "    [-0.55857474, -0.39065825, -0.19198182,  0.02378408,  0.23735671],\n",
    "    [-0.27150199, -0.07088804,  0.13562939,  0.33099728,  0.50158768],\n",
    "    [-0.51014825, -0.30524429, -0.06755202,  0.17806392,  0.40333043]]])\n",
    "print('h error: ', rel_error(expected_h, h))"
   ]
  },
  {
   "cell_type": "markdown",
   "metadata": {},
   "source": [
    "# Vanilla RNN: backward\n",
    "In the file `lib/layer_utils.py`, check the backward pass for a vanilla RNN in the function `backward` in the `VanillaRNN` class. We provide this function for you. This runs back-propagation over the entire sequence, calling into the `step_backward` function defined above. You should see errors less than 5e-7."
   ]
  },
  {
   "cell_type": "code",
   "execution_count": 63,
   "metadata": {},
   "outputs": [
    {
     "name": "stdout",
     "output_type": "stream",
     "text": [
      "dx error:  1.87350084215e-10\n",
      "dh0 error:  1.79473121051e-10\n",
      "dWx error:  4.86336978787e-09\n",
      "dWh error:  6.11973793403e-10\n",
      "db error:  2.49047869637e-10\n"
     ]
    }
   ],
   "source": [
    "np.random.seed(599)\n",
    "\n",
    "N, D, T, H = 2, 3, 10, 5\n",
    "\n",
    "rnn = VanillaRNN(D, H, init_scale=0.02, name=\"rnn_test\")\n",
    "\n",
    "x = np.random.randn(N, T, D)\n",
    "h0 = np.random.randn(N, H)\n",
    "Wx = np.random.randn(D, H)\n",
    "Wh = np.random.randn(H, H)\n",
    "b = np.random.randn(H)\n",
    "\n",
    "rnn.params[rnn.wx_name] = Wx\n",
    "rnn.params[rnn.wh_name] = Wh\n",
    "rnn.params[rnn.b_name] = b\n",
    "\n",
    "out = rnn.forward(x, h0)\n",
    "\n",
    "dout = np.random.randn(*out.shape)\n",
    "\n",
    "dx, dh0 = rnn.backward(dout)\n",
    "\n",
    "dx_num = eval_numerical_gradient_array(lambda x: rnn.forward(x, h0), x, dout)\n",
    "dh0_num = eval_numerical_gradient_array(lambda h0: rnn.forward(x, h0), h0, dout)\n",
    "dWx_num = eval_numerical_gradient_array(lambda Wx: rnn.forward(x, h0), Wx, dout)\n",
    "dWh_num = eval_numerical_gradient_array(lambda Wh: rnn.forward(x, h0), Wh, dout)\n",
    "db_num = eval_numerical_gradient_array(lambda b: rnn.forward(x, h0), b, dout)\n",
    "\n",
    "dWx = rnn.grads[rnn.wx_name]\n",
    "dWh = rnn.grads[rnn.wh_name]\n",
    "db = rnn.grads[rnn.b_name]\n",
    "\n",
    "print('dx error: ', rel_error(dx_num, dx))\n",
    "print('dh0 error: ', rel_error(dh0_num, dh0))\n",
    "print('dWx error: ', rel_error(dWx_num, dWx))\n",
    "print('dWh error: ', rel_error(dWh_num, dWh))\n",
    "print('db error: ', rel_error(db_num, db))"
   ]
  },
  {
   "cell_type": "markdown",
   "metadata": {},
   "source": [
    "# Word embedding: forward\n",
    "In deep learning systems, we commonly represent words using vectors. Each word of the vocabulary will be associated with a vector, and these vectors will be learned jointly with the rest of the system.\n",
    "\n",
    "In the file `lib/layer_utils.py`, check the function `forward` in the `word_embedding` class to convert words (represented by integers) into vectors. We provide this function for you. Run the following to check the implementation. You should see error around `1e-8`."
   ]
  },
  {
   "cell_type": "code",
   "execution_count": 6,
   "metadata": {},
   "outputs": [
    {
     "name": "stdout",
     "output_type": "stream",
     "text": [
      "out error:  1.00000000947e-08\n"
     ]
    }
   ],
   "source": [
    "N, T, V, D = 2, 4, 5, 3\n",
    "\n",
    "we = word_embedding(V, D, name=\"we\")\n",
    "\n",
    "x = np.asarray([[0, 3, 1, 2], [2, 1, 0, 3]])\n",
    "W = np.linspace(0, 1, num=V*D).reshape(V, D)\n",
    "\n",
    "we.params[we.w_name] = W\n",
    "\n",
    "out = we.forward(x)\n",
    "expected_out = np.asarray([\n",
    " [[ 0.,          0.07142857,  0.14285714],\n",
    "  [ 0.64285714,  0.71428571,  0.78571429],\n",
    "  [ 0.21428571,  0.28571429,  0.35714286],\n",
    "  [ 0.42857143,  0.5,         0.57142857]],\n",
    " [[ 0.42857143,  0.5,         0.57142857],\n",
    "  [ 0.21428571,  0.28571429,  0.35714286],\n",
    "  [ 0.,          0.07142857,  0.14285714],\n",
    "  [ 0.64285714,  0.71428571,  0.78571429]]])\n",
    "\n",
    "print('out error: ', rel_error(expected_out, out))"
   ]
  },
  {
   "cell_type": "markdown",
   "metadata": {},
   "source": [
    "# Word embedding: backward\n",
    "Check the backward pass for the word embedding function in the function `backward` in the `word_embedding` class. We provide this function for you. After doing so run the following to numerically gradient check the implementation. You should see errors less than `1e-11`."
   ]
  },
  {
   "cell_type": "code",
   "execution_count": 7,
   "metadata": {},
   "outputs": [
    {
     "name": "stdout",
     "output_type": "stream",
     "text": [
      "dW error:  3.27593252242e-12\n"
     ]
    }
   ],
   "source": [
    "np.random.seed(599)\n",
    "\n",
    "N, T, V, D = 50, 3, 5, 6\n",
    "\n",
    "we = word_embedding(V, D, name=\"we\")\n",
    "\n",
    "x = np.random.randint(V, size=(N, T))\n",
    "W = np.random.randn(V, D)\n",
    "\n",
    "we.params[we.w_name] = W\n",
    "\n",
    "out = we.forward(x)\n",
    "dout = np.random.randn(*out.shape)\n",
    "we.backward(dout)\n",
    "\n",
    "dW = we.grads[we.w_name]\n",
    "\n",
    "f = lambda W: we.forward(x)\n",
    "dW_num = eval_numerical_gradient_array(f, W, dout)\n",
    "\n",
    "print('dW error: ', rel_error(dW, dW_num))"
   ]
  },
  {
   "cell_type": "markdown",
   "metadata": {},
   "source": [
    "### Inline Question: Why do we want to represent words using word embeddings instead of one hot vector ( https://en.wikipedia.org/wiki/One-hot )? Provide one advantage of word embeddings.\n",
    "\n",
    "#### Ans: Because word embedding can reduce the dimensions of input instead of the one hot vector which may have a sparse result.\n"
   ]
  },
  {
   "cell_type": "markdown",
   "metadata": {},
   "source": [
    "# Temporal Fully Connected layer\n",
    "At every timestep we use an affine function to transform the RNN hidden vector at that timestep into scores for each word in the vocabulary. Because this is very similar to the fully connected layer that you implemented in assignment 1, we have provided this function for you in the `forward` and `backward` functions in the file `lib/layer_util.py`. Run the following to perform numeric gradient checking on the implementation. You should see errors less than 1e-9."
   ]
  },
  {
   "cell_type": "code",
   "execution_count": 8,
   "metadata": {},
   "outputs": [
    {
     "name": "stdout",
     "output_type": "stream",
     "text": [
      "dx error:  1.05895628938e-09\n",
      "dw error:  1.16649300155e-10\n",
      "db error:  1.85404883256e-11\n"
     ]
    }
   ],
   "source": [
    "np.random.seed(599)\n",
    "\n",
    "# Gradient check for temporal affine layer\n",
    "N, T, D, M = 2, 3, 4, 5\n",
    "\n",
    "t_fc = temporal_fc(D, M, init_scale=0.02, name='test_t_fc')\n",
    "\n",
    "x = np.random.randn(N, T, D)\n",
    "w = np.random.randn(D, M)\n",
    "b = np.random.randn(M)\n",
    "\n",
    "t_fc.params[t_fc.w_name] = w\n",
    "t_fc.params[t_fc.b_name] = b\n",
    "\n",
    "out = t_fc.forward(x)\n",
    "\n",
    "dout = np.random.randn(*out.shape)\n",
    "\n",
    "dx_num = eval_numerical_gradient_array(lambda x: t_fc.forward(x), x, dout)\n",
    "dw_num = eval_numerical_gradient_array(lambda w: t_fc.forward(x), w, dout)\n",
    "db_num = eval_numerical_gradient_array(lambda b: t_fc.forward(x), b, dout)\n",
    "\n",
    "dx = t_fc.backward(dout)\n",
    "dw = t_fc.grads[t_fc.w_name]\n",
    "db = t_fc.grads[t_fc.b_name]\n",
    "\n",
    "print('dx error: ', rel_error(dx_num, dx))\n",
    "print('dw error: ', rel_error(dw_num, dw))\n",
    "print('db error: ', rel_error(db_num, db))"
   ]
  },
  {
   "cell_type": "markdown",
   "metadata": {},
   "source": [
    "# Temporal Softmax loss\n",
    "In an RNN language model, at every timestep we produce a score for each word in the vocabulary. We know the ground-truth word at each timestep, so we use a softmax loss function to compute loss and gradient at each timestep. We sum the losses over time and average them over the minibatch.\n",
    "\n",
    "We provide this loss function for you; look at the `temporal_softmax_loss` function in the file `lib/layer_utils.py`.\n",
    "\n",
    "Run the following cell to sanity check the loss and perform numeric gradient checking on the function. You should see an error for dx less than 1e-7."
   ]
  },
  {
   "cell_type": "code",
   "execution_count": 9,
   "metadata": {},
   "outputs": [
    {
     "name": "stdout",
     "output_type": "stream",
     "text": [
      "2.3026437533\n",
      "23.0261456673\n",
      "2.30211012501\n",
      "dx error:  3.73563553172e-08\n"
     ]
    }
   ],
   "source": [
    "loss_func = temporal_softmax_loss()\n",
    "\n",
    "# Sanity check for temporal softmax loss\n",
    "N, T, V = 100, 1, 10\n",
    "\n",
    "def check_loss(N, T, V, p):\n",
    "    x = 0.001 * np.random.randn(N, T, V)\n",
    "    y = np.random.randint(V, size=(N, T))\n",
    "    mask = np.random.rand(N, T) <= p\n",
    "    print(loss_func.forward(x, y, mask))\n",
    "  \n",
    "check_loss(100, 1, 10, 1.0)   # Should be about 2.3\n",
    "check_loss(100, 10, 10, 1.0)  # Should be about 23\n",
    "check_loss(5000, 10, 10, 0.1) # Should be about 2.3\n",
    "\n",
    "# Gradient check for temporal softmax loss\n",
    "N, T, V = 7, 8, 9\n",
    "\n",
    "x = np.random.randn(N, T, V)\n",
    "y = np.random.randint(V, size=(N, T))\n",
    "mask = (np.random.rand(N, T) > 0.5)\n",
    "\n",
    "loss = loss_func.forward(x, y, mask)\n",
    "dx = loss_func.backward()\n",
    "\n",
    "dx_num = eval_numerical_gradient(lambda x: loss_func.forward(x, y, mask), x, verbose=False)\n",
    "\n",
    "print('dx error: ', rel_error(dx, dx_num))"
   ]
  },
  {
   "cell_type": "markdown",
   "metadata": {},
   "source": [
    "### Inline Question: Using softmax function over vocabulary for word prediction is common in language modeling. However, this technique is not perfect, what do you think are the major disadvantages of it? Pleaes provide one disadvantage of softmax function over vocabulary. \n",
    "\n",
    "#### Ans: Expensice computing complexity"
   ]
  },
  {
   "cell_type": "markdown",
   "metadata": {},
   "source": [
    "# RNN for language modeling\n",
    "Now that you have the necessary layers, you can combine them to build an language modeling model. Open the file `lib/rnn.py` and look at the `TestRNN` class.\n",
    "\n",
    "Check the forward and backward pass of the model in the `loss` function. For now you only see the implementation of the case where `cell_type='rnn'` for vanialla RNNs; you will implement the LSTM case later. After doing so, run the following to check the forward pass using a small test case; you should see error less than `1e-10`."
   ]
  },
  {
   "cell_type": "code",
   "execution_count": 10,
   "metadata": {
    "scrolled": false
   },
   "outputs": [
    {
     "name": "stdout",
     "output_type": "stream",
     "text": [
      "loss:  51.0949189134\n",
      "expected loss:  51.0949189134\n",
      "difference:  3.88169496546e-11\n"
     ]
    }
   ],
   "source": [
    "N, D, H = 10, 20, 40\n",
    "V = 4\n",
    "T = 13\n",
    "\n",
    "model = TestRNN(D, H, cell_type='rnn')\n",
    "loss_func = temporal_softmax_loss()\n",
    "\n",
    "# Set all model parameters to fixed values\n",
    "for k, v in model.params.items():\n",
    "    model.params[k] = np.linspace(-1.4, 1.3, num=v.size).reshape(*v.shape)\n",
    "model.assign_params()\n",
    "\n",
    "features = np.linspace(-1.5, 0.3, num=(N * D * T)).reshape(N, T, D)\n",
    "h0 = np.linspace(-1.5, 0.5, num=(N*H)).reshape(N, H)\n",
    "labels = (np.arange(N * T) % V).reshape(N, T)\n",
    "\n",
    "pred = model.forward(features, h0)\n",
    "\n",
    "# You'll need this\n",
    "mask = np.ones((N, T))\n",
    "\n",
    "loss = loss_func.forward(pred, labels, mask)\n",
    "dLoss = loss_func.backward()\n",
    "\n",
    "expected_loss = 51.0949189134\n",
    "\n",
    "print('loss: ', loss)\n",
    "print('expected loss: ', expected_loss)\n",
    "print('difference: ', abs(loss - expected_loss))"
   ]
  },
  {
   "cell_type": "markdown",
   "metadata": {},
   "source": [
    "Run the following cell to perform numeric gradient checking on the `TestRNN` class; you should errors around `1e-7` or less."
   ]
  },
  {
   "cell_type": "code",
   "execution_count": 11,
   "metadata": {},
   "outputs": [
    {
     "name": "stdout",
     "output_type": "stream",
     "text": [
      "vanilla_rnn_b relative error: 3.672403e-09\n",
      "vanilla_rnn_wh relative error: 3.659114e-07\n",
      "vanilla_rnn_wx relative error: 1.780015e-09\n"
     ]
    }
   ],
   "source": [
    "np.random.seed(599)\n",
    "\n",
    "batch_size = 2\n",
    "timesteps = 3\n",
    "input_dim = 4\n",
    "hidden_dim = 6\n",
    "label_size = 4\n",
    "\n",
    "labels = np.random.randint(label_size, size=(batch_size, timesteps))\n",
    "features = np.random.randn(batch_size, timesteps, input_dim)\n",
    "h0 = np.random.randn(batch_size, hidden_dim)\n",
    "\n",
    "model = TestRNN(input_dim, hidden_dim, cell_type='rnn')\n",
    "loss_func = temporal_softmax_loss()\n",
    "\n",
    "pred = model.forward(features, h0)\n",
    "\n",
    "# You'll need this\n",
    "mask = np.ones((batch_size, timesteps))\n",
    "\n",
    "loss = loss_func.forward(pred, labels, mask)\n",
    "dLoss = loss_func.backward()\n",
    "\n",
    "dout, dh0 = model.backward(dLoss)\n",
    "\n",
    "grads = model.grads\n",
    "\n",
    "for param_name in sorted(grads):\n",
    "    \n",
    "    f = lambda _: loss_func.forward(model.forward(features, h0), labels, mask)\n",
    "    param_grad_num = eval_numerical_gradient(f, model.params[param_name], verbose=False, h=1e-6)\n",
    "    e = rel_error(param_grad_num, grads[param_name])\n",
    "    print('%s relative error: %e' % (param_name, e))"
   ]
  },
  {
   "cell_type": "markdown",
   "metadata": {},
   "source": [
    "# LSTM\n",
    "Vanilla RNNs can be tough to train on long sequences due to vanishing and exploding gradiants. LSTMs solve this problem by replacing the simple update rule of the vanilla RNN with a gating mechanism as follows.\n",
    "\n",
    "Similar to the vanilla RNN, at each timestep we receive an input $x_t\\in\\mathbb{R}^D$ and the previous hidden state $h_{t-1}\\in\\mathbb{R}^H$; what is different in the LSTM is to maintains an $H$-dimensional *cell state*, so we also receive the previous cell state $c_{t-1}\\in\\mathbb{R}^H$. The learnable parameters of the LSTM are an *input-to-hidden* matrix $W_x\\in\\mathbb{R}^{4H\\times D}$, a *hidden-to-hidden* matrix $W_h\\in\\mathbb{R}^{4H\\times H}$ and a *bias vector* $b\\in\\mathbb{R}^{4H}$.\n",
    "\n",
    "At each timestep we first compute an *activation vector* $a\\in\\mathbb{R}^{4H}$ as $a=W_xx_t + W_hh_{t-1}+b$. We then divide this into four vectors $a_i,a_f,a_o,a_g\\in\\mathbb{R}^H$ where $a_i$ consists of the first $H$ elements of $a$, $a_f$ is the next $H$ elements of $a$, etc. We then compute the *input gate* $g\\in\\mathbb{R}^H$, *forget gate* $f\\in\\mathbb{R}^H$, *output gate* $o\\in\\mathbb{R}^H$ and *block input* $g\\in\\mathbb{R}^H$ as\n",
    "\n",
    "$$\n",
    "\\begin{align*}\n",
    "i = \\sigma(a_i) \\hspace{2pc}\n",
    "f = \\sigma(a_f) \\hspace{2pc}\n",
    "o = \\sigma(a_o) \\hspace{2pc}\n",
    "g = \\tanh(a_g)\n",
    "\\end{align*}\n",
    "$$\n",
    "\n",
    "where $\\sigma$ is the sigmoid function and $\\tanh$ is the hyperbolic tangent, both applied elementwise.\n",
    "\n",
    "Finally we compute the next cell state $c_t$ and next hidden state $h_t$ as\n",
    "\n",
    "$$\n",
    "c_{t} = f\\odot c_{t-1} + i\\odot g \\hspace{4pc}\n",
    "h_t = o\\odot\\tanh(c_t)\n",
    "$$\n",
    "\n",
    "where $\\odot$ is the elementwise product of vectors.\n",
    "\n",
    "In the rest of the notebook we will implement the LSTM update rule and apply it to the text generation task. \n",
    "\n",
    "In the code, we assume that data is stored in batches so that $X_t \\in \\mathbb{R}^{N\\times D}$, and will work with *transposed* versions of the parameters: $W_x \\in \\mathbb{R}^{D \\times 4H}$, $W_h \\in \\mathbb{R}^{H\\times 4H}$ so that activations $A \\in \\mathbb{R}^{N\\times 4H}$ can be computed efficiently as $A = X_t W_x + H_{t-1} W_h$"
   ]
  },
  {
   "cell_type": "markdown",
   "metadata": {},
   "source": [
    "# LSTM: step forward\n",
    "Implement the forward pass for a single timestep of an LSTM in the `step_forward` function in the file `lib/layer_utils.py`. This should be similar to the `step_forward` function that you implemented above, but using the LSTM update rule instead.\n",
    "\n",
    "Once you are done, run the following to perform a simple test of your implementation. You should see errors around `1e-8` or less."
   ]
  },
  {
   "cell_type": "code",
   "execution_count": 46,
   "metadata": {},
   "outputs": [
    {
     "name": "stdout",
     "output_type": "stream",
     "text": [
      "next_h error:  5.70541311858e-09\n",
      "next_c error:  5.81431230888e-09\n"
     ]
    }
   ],
   "source": [
    "N, D, H = 3, 4, 5\n",
    "\n",
    "lstm = LSTM(D, H, init_scale=0.02, name='test_lstm')\n",
    "\n",
    "x = np.linspace(-0.4, 1.2, num=N*D).reshape(N, D)\n",
    "prev_h = np.linspace(-0.3, 0.7, num=N*H).reshape(N, H)\n",
    "prev_c = np.linspace(-0.4, 0.9, num=N*H).reshape(N, H)\n",
    "Wx = np.linspace(-2.1, 1.3, num=4*D*H).reshape(D, 4 * H)\n",
    "Wh = np.linspace(-0.7, 2.2, num=4*H*H).reshape(H, 4 * H)\n",
    "b = np.linspace(0.3, 0.7, num=4*H)\n",
    "\n",
    "lstm.params[lstm.wx_name] = Wx\n",
    "lstm.params[lstm.wh_name] = Wh\n",
    "lstm.params[lstm.b_name] = b\n",
    "\n",
    "next_h, next_c, cache = lstm.step_forward(x, prev_h, prev_c)\n",
    "\n",
    "expected_next_h = np.asarray([\n",
    "    [ 0.24635157,  0.28610883,  0.32240467,  0.35525807,  0.38474904],\n",
    "    [ 0.49223563,  0.55611431,  0.61507696,  0.66844003,  0.7159181 ],\n",
    "    [ 0.56735664,  0.66310127,  0.74419266,  0.80889665,  0.858299  ]])\n",
    "expected_next_c = np.asarray([\n",
    "    [ 0.32986176,  0.39145139,  0.451556,    0.51014116,  0.56717407],\n",
    "    [ 0.66382255,  0.76674007,  0.87195994,  0.97902709,  1.08751345],\n",
    "    [ 0.74192008,  0.90592151,  1.07717006,  1.25120233,  1.42395676]])\n",
    "\n",
    "print('next_h error: ', rel_error(expected_next_h, next_h))\n",
    "print('next_c error: ', rel_error(expected_next_c, next_c))"
   ]
  },
  {
   "cell_type": "markdown",
   "metadata": {},
   "source": [
    "# LSTM: step backward\n",
    "Implement the backward pass for a single LSTM timestep in the function `step_backward` in the file `lib/layer_utils.py`. Once you are done, run the following to perform numeric gradient checking on your implementation. You should see errors around `1e-6` or less."
   ]
  },
  {
   "cell_type": "code",
   "execution_count": 76,
   "metadata": {},
   "outputs": [
    {
     "name": "stdout",
     "output_type": "stream",
     "text": [
      "dx error:  4.16066350127e-10\n",
      "dh error:  1.92531382762e-10\n",
      "dc error:  3.29289470537e-10\n",
      "dWx error:  1.52854444121e-09\n",
      "dWh error:  3.23971230552e-09\n",
      "db error:  3.66690394798e-10\n"
     ]
    }
   ],
   "source": [
    "np.random.seed(599)\n",
    "\n",
    "N, D, H = 4, 5, 6\n",
    "\n",
    "lstm = LSTM(D, H, init_scale=0.02, name='test_lstm')\n",
    "\n",
    "x = np.random.randn(N, D)\n",
    "prev_h = np.random.randn(N, H)\n",
    "prev_c = np.random.randn(N, H)\n",
    "Wx = np.random.randn(D, 4 * H)\n",
    "Wh = np.random.randn(H, 4 * H)\n",
    "b = np.random.randn(4 * H)\n",
    "\n",
    "lstm.params[lstm.wx_name] = Wx\n",
    "lstm.params[lstm.wh_name] = Wh\n",
    "lstm.params[lstm.b_name] = b\n",
    "\n",
    "next_h, next_c, cache = lstm.step_forward(x, prev_h, prev_c)\n",
    "\n",
    "dnext_h = np.random.randn(*next_h.shape)\n",
    "dnext_c = np.random.randn(*next_c.shape)\n",
    "\n",
    "fx_h = lambda x: lstm.step_forward(x, prev_h, prev_c)[0]\n",
    "fh_h = lambda h: lstm.step_forward(x, prev_h, prev_c)[0]\n",
    "fc_h = lambda c: lstm.step_forward(x, prev_h, prev_c)[0]\n",
    "fWx_h = lambda Wx: lstm.step_forward(x, prev_h, prev_c)[0]\n",
    "fWh_h = lambda Wh: lstm.step_forward(x, prev_h, prev_c)[0]\n",
    "fb_h = lambda b: lstm.step_forward(x, prev_h, prev_c)[0]\n",
    "\n",
    "fx_c = lambda x: lstm.step_forward(x, prev_h, prev_c)[1]\n",
    "fh_c = lambda h: lstm.step_forward(x, prev_h, prev_c)[1]\n",
    "fc_c = lambda c: lstm.step_forward(x, prev_h, prev_c)[1]\n",
    "fWx_c = lambda Wx: lstm.step_forward(x, prev_h, prev_c)[1]\n",
    "fWh_c = lambda Wh: lstm.step_forward(x, prev_h, prev_c)[1]\n",
    "fb_c = lambda b: lstm.step_forward(x, prev_h, prev_c)[1]\n",
    "\n",
    "num_grad = eval_numerical_gradient_array\n",
    "\n",
    "dx_num = num_grad(fx_h, x, dnext_h) + num_grad(fx_c, x, dnext_c)\n",
    "dh_num = num_grad(fh_h, prev_h, dnext_h) + num_grad(fh_c, prev_h, dnext_c)\n",
    "dc_num = num_grad(fc_h, prev_c, dnext_h) + num_grad(fc_c, prev_c, dnext_c)\n",
    "dWx_num = num_grad(fWx_h, Wx, dnext_h) + num_grad(fWx_c, Wx, dnext_c)\n",
    "dWh_num = num_grad(fWh_h, Wh, dnext_h) + num_grad(fWh_c, Wh, dnext_c)\n",
    "db_num = num_grad(fb_h, b, dnext_h) + num_grad(fb_c, b, dnext_c)\n",
    "\n",
    "dx, dh, dc, dWx, dWh, db = lstm.step_backward(dnext_h, dnext_c, cache)\n",
    "\n",
    "print('dx error: ', rel_error(dx_num, dx))\n",
    "print('dh error: ', rel_error(dh_num, dh))\n",
    "print('dc error: ', rel_error(dc_num, dc))\n",
    "print('dWx error: ', rel_error(dWx_num, dWx))\n",
    "print('dWh error: ', rel_error(dWh_num, dWh))\n",
    "print('db error: ', rel_error(db_num, db))"
   ]
  },
  {
   "cell_type": "markdown",
   "metadata": {},
   "source": [
    "# LSTM: forward\n",
    "In the class `lstm` in the file `lib/layer_utils.py`, implement the `forward` function to run an LSTM forward on an entire timeseries of data.\n",
    "\n",
    "When you are done, run the following to check your implementation. You should see an error around `1e-7`."
   ]
  },
  {
   "cell_type": "code",
   "execution_count": 77,
   "metadata": {},
   "outputs": [
    {
     "name": "stdout",
     "output_type": "stream",
     "text": [
      "h error:  8.61053745211e-08\n"
     ]
    }
   ],
   "source": [
    "N, D, H, T = 2, 5, 4, 3\n",
    "\n",
    "lstm = LSTM(D, H, init_scale=0.02, name='test_lstm')\n",
    "\n",
    "x = np.linspace(-0.4, 0.6, num=N*T*D).reshape(N, T, D)\n",
    "h0 = np.linspace(-0.4, 0.8, num=N*H).reshape(N, H)\n",
    "Wx = np.linspace(-0.2, 0.9, num=4*D*H).reshape(D, 4 * H)\n",
    "Wh = np.linspace(-0.3, 0.6, num=4*H*H).reshape(H, 4 * H)\n",
    "b = np.linspace(0.2, 0.7, num=4*H)\n",
    "\n",
    "lstm.params[lstm.wx_name] = Wx\n",
    "lstm.params[lstm.wh_name] = Wh\n",
    "lstm.params[lstm.b_name] = b\n",
    "\n",
    "h = lstm.forward(x, h0)\n",
    "\n",
    "expected_h = np.asarray([\n",
    " [[ 0.01764008,  0.01823233,  0.01882671,  0.0194232 ],\n",
    "  [ 0.11287491,  0.12146228,  0.13018446,  0.13902939],\n",
    "  [ 0.31358768,  0.33338627,  0.35304453,  0.37250975]],\n",
    " [[ 0.45767879,  0.4761092,   0.4936887,   0.51041945],\n",
    "  [ 0.6704845,   0.69350089,  0.71486014,  0.7346449 ],\n",
    "  [ 0.81733511,  0.83677871,  0.85403753,  0.86935314]]])\n",
    "\n",
    "print('h error: ', rel_error(expected_h, h))"
   ]
  },
  {
   "cell_type": "markdown",
   "metadata": {},
   "source": [
    "# LSTM: backward\n",
    "Implement the backward pass for an LSTM over an entire timeseries of data in the function `backward` in the `lstm` class in the file `lib/layer_utils.py`. When you are done, run the following to perform numeric gradient checking on your implementation. You should see errors around `1e-7` or less."
   ]
  },
  {
   "cell_type": "code",
   "execution_count": 78,
   "metadata": {},
   "outputs": [
    {
     "name": "stdout",
     "output_type": "stream",
     "text": [
      "dx error:  2.84522704843e-09\n",
      "dh0 error:  5.41532805807e-09\n",
      "dWx error:  3.39577476727e-09\n",
      "dWh error:  4.6760274556e-08\n",
      "db error:  2.70079664356e-09\n"
     ]
    }
   ],
   "source": [
    "np.random.seed(599)\n",
    "\n",
    "N, D, T, H = 2, 3, 10, 6\n",
    "\n",
    "lstm = LSTM(D, H, init_scale=0.02, name='test_lstm')\n",
    "\n",
    "x = np.random.randn(N, T, D)\n",
    "h0 = np.random.randn(N, H)\n",
    "Wx = np.random.randn(D, 4 * H)\n",
    "Wh = np.random.randn(H, 4 * H)\n",
    "b = np.random.randn(4 * H)\n",
    "\n",
    "lstm.params[lstm.wx_name] = Wx\n",
    "lstm.params[lstm.wh_name] = Wh\n",
    "lstm.params[lstm.b_name] = b\n",
    "\n",
    "out = lstm.forward(x, h0)\n",
    "\n",
    "dout = np.random.randn(*out.shape)\n",
    "\n",
    "dx, dh0 = lstm.backward(dout)\n",
    "dWx = lstm.grads[lstm.wx_name] \n",
    "dWh = lstm.grads[lstm.wh_name]\n",
    "db = lstm.grads[lstm.b_name]\n",
    "\n",
    "dx_num = eval_numerical_gradient_array(lambda x: lstm.forward(x, h0), x, dout)\n",
    "dh0_num = eval_numerical_gradient_array(lambda h0: lstm.forward(x, h0), h0, dout)\n",
    "dWx_num = eval_numerical_gradient_array(lambda Wx: lstm.forward(x, h0), Wx, dout)\n",
    "dWh_num = eval_numerical_gradient_array(lambda Wh: lstm.forward(x, h0), Wh, dout)\n",
    "db_num = eval_numerical_gradient_array(lambda b: lstm.forward(x, h0), b, dout)\n",
    "\n",
    "print('dx error: ', rel_error(dx_num, dx))\n",
    "print('dh0 error: ', rel_error(dh0_num, dh0))\n",
    "print('dWx error: ', rel_error(dWx_num, dWx))\n",
    "print('dWh error: ', rel_error(dWh_num, dWh))\n",
    "print('db error: ', rel_error(db_num, db))"
   ]
  },
  {
   "cell_type": "markdown",
   "metadata": {},
   "source": [
    "# LSTM model\n",
    "\n",
    "Now that you have implemented an LSTM, update the initialization of the `TestRNN` class in the file `lib/rnn.py` to handle the case where `self.cell_type` is `lstm`. This should require adding only one line of codes.\n",
    "\n",
    "Once you have done so, run the following to check your implementation. You should see a difference of less than `1e-10`."
   ]
  },
  {
   "cell_type": "code",
   "execution_count": 79,
   "metadata": {},
   "outputs": [
    {
     "name": "stdout",
     "output_type": "stream",
     "text": [
      "loss:  49.2140256354\n",
      "expected loss:  49.2140256354\n",
      "difference:  4.29309920946e-11\n"
     ]
    }
   ],
   "source": [
    "N, D, H = 10, 20, 40\n",
    "V = 4\n",
    "T = 13\n",
    "\n",
    "model = TestRNN(D, H, cell_type='lstm')\n",
    "loss_func = temporal_softmax_loss()\n",
    "\n",
    "# Set all model parameters to fixed values\n",
    "for k, v in model.params.items():\n",
    "    model.params[k] = np.linspace(-1.4, 1.3, num=v.size).reshape(*v.shape)\n",
    "model.assign_params()\n",
    "\n",
    "features = np.linspace(-1.5, 0.3, num=(N * D * T)).reshape(N, T, D)\n",
    "h0 = np.linspace(-1.5, 0.5, num=(N*H)).reshape(N, H)\n",
    "labels = (np.arange(N * T) % V).reshape(N, T)\n",
    "\n",
    "pred = model.forward(features, h0)\n",
    "\n",
    "# You'll need this\n",
    "mask = np.ones((N, T))\n",
    "\n",
    "loss = loss_func.forward(pred, labels, mask)\n",
    "dLoss = loss_func.backward()\n",
    "\n",
    "expected_loss = 49.2140256354\n",
    "\n",
    "print('loss: ', loss)\n",
    "print('expected loss: ', expected_loss)\n",
    "print('difference: ', abs(loss - expected_loss))"
   ]
  },
  {
   "cell_type": "markdown",
   "metadata": {},
   "source": [
    "# Let's have some fun!!\n",
    "\n",
    "Now you have everything you need for language modeling. You will work on text generation using RNNs from any text source (novel, lyrics). The network is trained to predict what word is coming next given a previous word. Once you train the model, by looping the network, you can keep generating a new text which is mimicing the original text source. Let's first put your source text you want to model in the following text box!\n",
    "\n",
    "**Notice**: in order to run next cell, paste your own text words into the form and hit Enter. Do not use notebook's own 'run cell' since it wouldn't read in anything."
   ]
  },
  {
   "cell_type": "code",
   "execution_count": 105,
   "metadata": {},
   "outputs": [
    {
     "data": {
      "application/vnd.jupyter.widget-view+json": {
       "model_id": "821d2c88a23649799e390edb7a8ab045"
      }
     },
     "metadata": {},
     "output_type": "display_data"
    },
    {
     "name": "stdout",
     "output_type": "stream",
     "text": [
      "set!!\n",
      "This Romeo is bleeding But you can't see his blood It's nothing but some feelings That this old dog kicked up  It's been raining since you left me Now I'm drowning in the flood You see I've always been a fighter But without you I give up  Now I can't sing a love song Like the way it's meant to be Well, I guess I'm not that good anymore But, baby, that's just me  And I will love you, baby, always And I'll be there forever and a day, always I'll be there 'til the stars don't shine 'Til the heavens burst and the words don't rhyme And I know when I die, You'll be on my mind And I'll love you always  Now your pictures that you left behind Are just memories of a different life Some that made us laugh, some that made us cry One that made you have to say goodbye What I'd give to run my fingers through your hair To touch your lips, to hold you near When you say your prayers, try to understand I've made mistakes, I'm just a man  When he holds you close, when he pulls you near When he says the words you've been needing to hear I'll wish I was him 'cause those words are mine To say to you 'til the end of time  Yeah, I will love you, baby, always And I'll be there forever and a day, always  If you told me to cry for you I could If you told me to die for you I would Take a look at my face There's no price I won't pay To say these words to you  Well, there ain't no luck In these loaded dice But, baby, if you give me just one more try We can pack up our old dreams and our old lives We'll find a place where the sun still shines  And I will love you, baby, always And I'll be there forever and a day, always I'll be there 'til the stars don't shine 'Til the heavens burst and the words don't rhyme And I know when I die, You'll be on my mind And I'll love you, always  Once upon a time not so long ago.  Tommy used to work on the docks. Union's been on strike. He's down on his luck. It's tough, so tough.  Gina works the diner all day. Working for her man. She brings home her pay. For love, for love.  She says, \"We've gotta hold on to what we've got. It doesn't make a difference if we make it or not. We've got each other and that's a lot. For love we'll give it a shot.\"  Whoa, we're half-way there. Whoa, livin' on a prayer. Take my hand, we'll make it. I swear. Whoa, livin' on a prayer.  Tommy's got his six string in hock. Now he's holding in What he used to make it talk. So tough, it's tough.  Gina dreams of running away. When she cries in the night Tommy whispers, \"Baby, it's okay, someday.  We've gotta hold on to what we've got. It doesn't make a difference if we make it or not. We've got each other and that's a lot. For love we'll give it a shot.\"  Whoa, we're half-way there. Whoa, livin' on a prayer. Take my hand and we'll make it. I swear. Whoa, livin' on a prayer.  Livin' on a prayer.  We've gotta hold on ready or not. You live for the fight when it's all that you've got.  Whoa, we're half-way there. Whoa, livin' on a prayer. Take my hand and we'll make it, I swear. Whoa, livin' on a prayer.  Whoa, we're half-way there. Whoa, livin' on a prayer. Take my hand and we'll make it, I swear. Whoa, livin' on a prayer.\n"
     ]
    }
   ],
   "source": [
    "from ipywidgets import widgets, interact\n",
    "from IPython.display import display\n",
    "input_text = widgets.Text()\n",
    "input_text.value = \"Paste your own text words here and hit Enter.\"\n",
    "def f(x):\n",
    "    print('set!!')\n",
    "    print(x.value)\n",
    "input_text.on_submit(f)\n",
    "input_text\n",
    "# copy paste your text source in the box below and hit enter.\n",
    "# If you don't have any preference, \n",
    "# you can copy paste the lyrics from here https://www.azlyrics.com/lyrics/ylvis/thefox.html"
   ]
  },
  {
   "cell_type": "markdown",
   "metadata": {},
   "source": [
    "simply run the following code to construct training dataset<br />"
   ]
  },
  {
   "cell_type": "code",
   "execution_count": 106,
   "metadata": {},
   "outputs": [
    {
     "name": "stdout",
     "output_type": "stream",
     "text": [
      "Input text size: 660\n",
      "Input word number: 233\n"
     ]
    }
   ],
   "source": [
    "import re\n",
    "\n",
    "text = re.split(' |\\n',input_text.value.lower()) # all words are converted into lower case\n",
    "outputSize = len(text)\n",
    "word_list = list(set(text))\n",
    "dataSize = len(word_list)\n",
    "output = np.zeros(outputSize)\n",
    "for i in range(0, outputSize):\n",
    "    index = np.where(np.asarray(word_list) == text[i])\n",
    "    output[i] = index[0]\n",
    "data_labels = output.astype(np.int)\n",
    "gt_labels = data_labels[1:]\n",
    "data_labels = data_labels[:-1]\n",
    "\n",
    "print('Input text size: %s' % outputSize)\n",
    "print('Input word number: %s' % dataSize)"
   ]
  },
  {
   "cell_type": "markdown",
   "metadata": {},
   "source": [
    "We defined a LanguageModelRNN class for you to fill in the TODO block in rnn.py.\n",
    "* Here design a recurrent neutral network consisting of a word_embedding layer, recurrent unit, and temporal fully connected layers so that they match the provided dimentions.\n",
    "* Please read the train.py under lib directory carefully and complete the TODO blocks in the train_net function first."
   ]
  },
  {
   "cell_type": "code",
   "execution_count": 110,
   "metadata": {},
   "outputs": [
    {
     "name": "stdout",
     "output_type": "stream",
     "text": [
      "(Iteration 1 / 6500) loss: 272.5550701358028\n",
      "bast performance 5.311077389984825%\n",
      "(Epoch 1 / 100) Training Accuracy: 0.05311077389984825\n",
      "(Iteration 101 / 6500) loss: 251.72576182408403\n",
      "(Epoch 2 / 100) Training Accuracy: 0.03793626707132018\n",
      "bast performance 5.918057663125948%\n",
      "(Epoch 3 / 100) Training Accuracy: 0.05918057663125948\n",
      "(Iteration 201 / 6500) loss: 236.69145875912733\n",
      "(Epoch 4 / 100) Training Accuracy: 0.057663125948406675\n",
      "(Iteration 301 / 6500) loss: 218.1754236328067\n",
      "bast performance 6.525037936267071%\n",
      "(Epoch 5 / 100) Training Accuracy: 0.06525037936267071\n",
      "bast performance 8.19423368740516%\n",
      "(Epoch 6 / 100) Training Accuracy: 0.0819423368740516\n",
      "(Iteration 401 / 6500) loss: 195.6000016704001\n",
      "bast performance 14.87101669195751%\n",
      "(Epoch 7 / 100) Training Accuracy: 0.14871016691957512\n",
      "(Iteration 501 / 6500) loss: 184.90099333479094\n",
      "bast performance 20.637329286798177%\n",
      "(Epoch 8 / 100) Training Accuracy: 0.20637329286798178\n",
      "bast performance 26.555386949924127%\n",
      "(Epoch 9 / 100) Training Accuracy: 0.26555386949924126\n",
      "(Iteration 601 / 6500) loss: 179.05443026516392\n",
      "bast performance 30.652503793626707%\n",
      "(Epoch 10 / 100) Training Accuracy: 0.30652503793626706\n",
      "(Iteration 701 / 6500) loss: 154.79512591957635\n",
      "bast performance 36.722306525037936%\n",
      "(Epoch 11 / 100) Training Accuracy: 0.36722306525037934\n",
      "bast performance 41.7298937784522%\n",
      "(Epoch 12 / 100) Training Accuracy: 0.417298937784522\n",
      "(Iteration 801 / 6500) loss: 150.8567714775857\n",
      "bast performance 46.28224582701062%\n",
      "(Epoch 13 / 100) Training Accuracy: 0.4628224582701062\n",
      "(Iteration 901 / 6500) loss: 129.55169916192943\n",
      "bast performance 52.50379362670713%\n",
      "(Epoch 14 / 100) Training Accuracy: 0.5250379362670713\n",
      "bast performance 57.81487101669196%\n",
      "(Epoch 15 / 100) Training Accuracy: 0.5781487101669196\n",
      "(Iteration 1001 / 6500) loss: 119.24539054318427\n",
      "bast performance 61.91198786039453%\n",
      "(Epoch 16 / 100) Training Accuracy: 0.6191198786039454\n",
      "(Iteration 1101 / 6500) loss: 106.58526652521986\n",
      "bast performance 66.00910470409713%\n",
      "(Epoch 17 / 100) Training Accuracy: 0.6600910470409712\n",
      "bast performance 69.19575113808801%\n",
      "(Epoch 18 / 100) Training Accuracy: 0.6919575113808801\n",
      "(Iteration 1201 / 6500) loss: 106.17161973068887\n",
      "bast performance 70.40971168437025%\n",
      "(Epoch 19 / 100) Training Accuracy: 0.7040971168437026\n",
      "bast performance 71.47192716236722%\n",
      "(Epoch 20 / 100) Training Accuracy: 0.7147192716236722\n",
      "(Iteration 1301 / 6500) loss: 83.21269844947162\n",
      "bast performance 72.3823975720789%\n",
      "(Epoch 21 / 100) Training Accuracy: 0.723823975720789\n",
      "(Iteration 1401 / 6500) loss: 73.55413781511497\n",
      "bast performance 74.35508345978755%\n",
      "(Epoch 22 / 100) Training Accuracy: 0.7435508345978755\n",
      "bast performance 74.81031866464339%\n",
      "(Epoch 23 / 100) Training Accuracy: 0.7481031866464339\n",
      "(Iteration 1501 / 6500) loss: 77.09189128682117\n",
      "bast performance 75.72078907435508%\n",
      "(Epoch 24 / 100) Training Accuracy: 0.7572078907435509\n",
      "(Iteration 1601 / 6500) loss: 60.74153175924806\n",
      "bast performance 76.32776934749621%\n",
      "(Epoch 25 / 100) Training Accuracy: 0.7632776934749621\n",
      "bast performance 78.60394537177542%\n",
      "(Epoch 26 / 100) Training Accuracy: 0.7860394537177542\n",
      "(Iteration 1701 / 6500) loss: 69.50388650260615\n",
      "bast performance 80.12139605462822%\n",
      "(Epoch 27 / 100) Training Accuracy: 0.8012139605462822\n",
      "(Iteration 1801 / 6500) loss: 59.99680164222485\n",
      "bast performance 81.48710166919575%\n",
      "(Epoch 28 / 100) Training Accuracy: 0.8148710166919575\n",
      "bast performance 82.39757207890743%\n",
      "(Epoch 29 / 100) Training Accuracy: 0.8239757207890743\n",
      "(Iteration 1901 / 6500) loss: 47.70775180735345\n",
      "bast performance 83.30804248861912%\n",
      "(Epoch 30 / 100) Training Accuracy: 0.8330804248861912\n",
      "(Iteration 2001 / 6500) loss: 52.78990461252255\n",
      "bast performance 83.61153262518968%\n",
      "(Epoch 31 / 100) Training Accuracy: 0.8361153262518968\n",
      "bast performance 84.67374810318664%\n",
      "(Epoch 32 / 100) Training Accuracy: 0.8467374810318664\n",
      "(Iteration 2101 / 6500) loss: 54.90435087904348\n",
      "bast performance 85.58421851289833%\n",
      "(Epoch 33 / 100) Training Accuracy: 0.8558421851289834\n",
      "(Iteration 2201 / 6500) loss: 39.85233816038844\n",
      "bast performance 86.34294385432474%\n",
      "(Epoch 34 / 100) Training Accuracy: 0.8634294385432474\n",
      "bast performance 87.70864946889226%\n",
      "(Epoch 35 / 100) Training Accuracy: 0.8770864946889226\n",
      "(Iteration 2301 / 6500) loss: 37.184026440152806\n",
      "bast performance 88.92261001517451%\n",
      "(Epoch 36 / 100) Training Accuracy: 0.8892261001517451\n",
      "(Iteration 2401 / 6500) loss: 40.489901503666516\n",
      "bast performance 89.52959028831563%\n",
      "(Epoch 37 / 100) Training Accuracy: 0.8952959028831563\n",
      "bast performance 89.68133535660091%\n",
      "(Epoch 38 / 100) Training Accuracy: 0.8968133535660091\n",
      "(Iteration 2501 / 6500) loss: 42.47018309644094\n",
      "bast performance 90.89529590288315%\n",
      "(Epoch 39 / 100) Training Accuracy: 0.9089529590288316\n",
      "bast performance 91.350531107739%\n",
      "(Epoch 40 / 100) Training Accuracy: 0.91350531107739\n",
      "(Iteration 2601 / 6500) loss: 35.935108287904406\n",
      "bast performance 91.65402124430956%\n",
      "(Epoch 41 / 100) Training Accuracy: 0.9165402124430956\n",
      "(Iteration 2701 / 6500) loss: 31.804839199138815\n",
      "bast performance 91.80576631259484%\n",
      "(Epoch 42 / 100) Training Accuracy: 0.9180576631259484\n",
      "(Epoch 43 / 100) Training Accuracy: 0.9165402124430956\n",
      "(Iteration 2801 / 6500) loss: 29.64530417487395\n",
      "bast performance 92.41274658573596%\n",
      "(Epoch 44 / 100) Training Accuracy: 0.9241274658573596\n",
      "(Iteration 2901 / 6500) loss: 28.596044197740763\n",
      "bast performance 93.01972685887708%\n",
      "(Epoch 45 / 100) Training Accuracy: 0.9301972685887708\n",
      "(Epoch 46 / 100) Training Accuracy: 0.928679817905918\n",
      "(Iteration 3001 / 6500) loss: 29.663331055027367\n",
      "(Epoch 47 / 100) Training Accuracy: 0.928679817905918\n",
      "(Iteration 3101 / 6500) loss: 30.257661403222716\n",
      "bast performance 93.62670713201821%\n",
      "(Epoch 48 / 100) Training Accuracy: 0.936267071320182\n",
      "(Epoch 49 / 100) Training Accuracy: 0.936267071320182\n",
      "(Iteration 3201 / 6500) loss: 25.168922757738017\n",
      "(Epoch 50 / 100) Training Accuracy: 0.936267071320182\n",
      "(Iteration 3301 / 6500) loss: 29.907857521117762\n",
      "bast performance 93.77845220030349%\n",
      "(Epoch 51 / 100) Training Accuracy: 0.9377845220030349\n",
      "bast performance 94.08194233687405%\n",
      "(Epoch 52 / 100) Training Accuracy: 0.9408194233687405\n",
      "(Iteration 3401 / 6500) loss: 24.291333489556017\n",
      "(Epoch 53 / 100) Training Accuracy: 0.9393019726858877\n",
      "(Iteration 3501 / 6500) loss: 22.15303221767659\n",
      "bast performance 94.53717754172989%\n",
      "(Epoch 54 / 100) Training Accuracy: 0.9453717754172989\n",
      "(Epoch 55 / 100) Training Accuracy: 0.9438543247344461\n",
      "(Iteration 3601 / 6500) loss: 22.641706473817884\n",
      "(Epoch 56 / 100) Training Accuracy: 0.9438543247344461\n",
      "(Iteration 3701 / 6500) loss: 19.443790179112614\n",
      "bast performance 94.99241274658573%\n",
      "(Epoch 57 / 100) Training Accuracy: 0.9499241274658573\n",
      "(Epoch 58 / 100) Training Accuracy: 0.9484066767830045\n",
      "(Iteration 3801 / 6500) loss: 18.74896137423333\n",
      "bast performance 95.14415781487102%\n",
      "(Epoch 59 / 100) Training Accuracy: 0.9514415781487102\n",
      "bast performance 95.2959028831563%\n",
      "(Epoch 60 / 100) Training Accuracy: 0.952959028831563\n",
      "(Iteration 3901 / 6500) loss: 17.897055463225804\n",
      "bast performance 95.44764795144158%\n",
      "(Epoch 61 / 100) Training Accuracy: 0.9544764795144158\n",
      "(Iteration 4001 / 6500) loss: 17.428258563076408\n",
      "bast performance 95.59939301972686%\n",
      "(Epoch 62 / 100) Training Accuracy: 0.9559939301972686\n",
      "(Epoch 63 / 100) Training Accuracy: 0.9559939301972686\n",
      "(Iteration 4101 / 6500) loss: 17.677432304250424\n",
      "bast performance 95.90288315629742%\n",
      "(Epoch 64 / 100) Training Accuracy: 0.9590288315629742\n",
      "(Iteration 4201 / 6500) loss: 19.033390763628507\n",
      "bast performance 96.20637329286798%\n",
      "(Epoch 65 / 100) Training Accuracy: 0.9620637329286799\n",
      "(Epoch 66 / 100) Training Accuracy: 0.9590288315629742\n",
      "(Iteration 4301 / 6500) loss: 19.253411442813935\n",
      "(Epoch 67 / 100) Training Accuracy: 0.960546282245827\n",
      "(Iteration 4401 / 6500) loss: 17.696769055510508\n",
      "bast performance 96.35811836115326%\n",
      "(Epoch 68 / 100) Training Accuracy: 0.9635811836115327\n",
      "(Epoch 69 / 100) Training Accuracy: 0.9620637329286799\n",
      "(Iteration 4501 / 6500) loss: 13.131919747999026\n",
      "(Epoch 70 / 100) Training Accuracy: 0.9620637329286799\n",
      "(Iteration 4601 / 6500) loss: 17.078320261253634\n",
      "(Epoch 71 / 100) Training Accuracy: 0.9635811836115327\n",
      "(Epoch 72 / 100) Training Accuracy: 0.9620637329286799\n",
      "(Iteration 4701 / 6500) loss: 15.229800983892071\n"
     ]
    },
    {
     "name": "stdout",
     "output_type": "stream",
     "text": [
      "bast performance 96.50986342943855%\n",
      "(Epoch 73 / 100) Training Accuracy: 0.9650986342943855\n",
      "(Iteration 4801 / 6500) loss: 12.719465413422924\n",
      "bast performance 96.66160849772383%\n",
      "(Epoch 74 / 100) Training Accuracy: 0.9666160849772383\n",
      "bast performance 96.81335356600911%\n",
      "(Epoch 75 / 100) Training Accuracy: 0.9681335356600911\n",
      "(Iteration 4901 / 6500) loss: 11.703612269361487\n",
      "bast performance 96.96509863429439%\n",
      "(Epoch 76 / 100) Training Accuracy: 0.9696509863429439\n",
      "(Iteration 5001 / 6500) loss: 14.040507439777324\n",
      "(Epoch 77 / 100) Training Accuracy: 0.9696509863429439\n",
      "(Epoch 78 / 100) Training Accuracy: 0.9696509863429439\n",
      "(Iteration 5101 / 6500) loss: 10.604448814598745\n",
      "(Epoch 79 / 100) Training Accuracy: 0.9696509863429439\n",
      "bast performance 97.11684370257967%\n",
      "(Epoch 80 / 100) Training Accuracy: 0.9711684370257967\n",
      "(Iteration 5201 / 6500) loss: 12.041993801878565\n",
      "(Epoch 81 / 100) Training Accuracy: 0.9711684370257967\n",
      "(Iteration 5301 / 6500) loss: 12.449169501067415\n",
      "(Epoch 82 / 100) Training Accuracy: 0.9711684370257967\n",
      "(Epoch 83 / 100) Training Accuracy: 0.9711684370257967\n",
      "(Iteration 5401 / 6500) loss: 12.476685239165487\n",
      "(Epoch 84 / 100) Training Accuracy: 0.9711684370257967\n",
      "(Iteration 5501 / 6500) loss: 8.718206180505259\n",
      "(Epoch 85 / 100) Training Accuracy: 0.9711684370257967\n",
      "(Epoch 86 / 100) Training Accuracy: 0.9711684370257967\n",
      "(Iteration 5601 / 6500) loss: 11.274508288758698\n",
      "bast performance 97.72382397572079%\n",
      "(Epoch 87 / 100) Training Accuracy: 0.9772382397572079\n",
      "(Iteration 5701 / 6500) loss: 9.25581287456669\n",
      "(Epoch 88 / 100) Training Accuracy: 0.9772382397572079\n",
      "(Epoch 89 / 100) Training Accuracy: 0.9772382397572079\n",
      "(Iteration 5801 / 6500) loss: 9.063976031365899\n",
      "bast performance 97.87556904400607%\n",
      "(Epoch 90 / 100) Training Accuracy: 0.9787556904400607\n",
      "(Iteration 5901 / 6500) loss: 9.884234247788996\n",
      "(Epoch 91 / 100) Training Accuracy: 0.9772382397572079\n",
      "(Epoch 92 / 100) Training Accuracy: 0.9772382397572079\n",
      "(Iteration 6001 / 6500) loss: 9.567152370934831\n",
      "(Epoch 93 / 100) Training Accuracy: 0.9787556904400607\n",
      "(Iteration 6101 / 6500) loss: 7.9069902856049215\n",
      "bast performance 98.02731411229135%\n",
      "(Epoch 94 / 100) Training Accuracy: 0.9802731411229135\n",
      "(Epoch 95 / 100) Training Accuracy: 0.9802731411229135\n",
      "(Iteration 6201 / 6500) loss: 8.41312053638795\n",
      "(Epoch 96 / 100) Training Accuracy: 0.9802731411229135\n",
      "(Iteration 6301 / 6500) loss: 8.963253626976188\n",
      "(Epoch 97 / 100) Training Accuracy: 0.9802731411229135\n",
      "(Epoch 98 / 100) Training Accuracy: 0.9802731411229135\n",
      "(Iteration 6401 / 6500) loss: 7.875656640975974\n",
      "(Epoch 99 / 100) Training Accuracy: 0.9802731411229135\n",
      "bast performance 98.17905918057663%\n",
      "(Epoch 100 / 100) Training Accuracy: 0.9817905918057663\n"
     ]
    }
   ],
   "source": [
    "# you can change the following parameters.\n",
    "D = 10 # input dimention\n",
    "H = 20 # hidden space dimention\n",
    "T = 50 # timesteps\n",
    "N = 10 # batch size\n",
    "max_epoch = 100 # max epoch size\n",
    "\n",
    "loss_func = temporal_softmax_loss()\n",
    "# you can change the cell_type between 'rnn' and 'lstm'.\n",
    "model = LanguageModelRNN(dataSize, D, H, cell_type='lstm')\n",
    "optimizer = Adam(model, 5e-4)\n",
    "\n",
    "data = { 'data_train': data_labels, 'labels_train': gt_labels }\n",
    "\n",
    "results = train_net(data, model, loss_func, optimizer, timesteps=T, batch_size=N, max_epochs=max_epoch, verbose=True)"
   ]
  },
  {
   "cell_type": "markdown",
   "metadata": {},
   "source": [
    "Simply run the following code block to check the loss and accuracy curve."
   ]
  },
  {
   "cell_type": "code",
   "execution_count": 112,
   "metadata": {},
   "outputs": [
    {
     "data": {
      "image/png": "[encoded data removed]",
      "text/plain": [
       "<matplotlib.figure.Figure at 0x113c6f5c0>"
      ]
     },
     "metadata": {},
     "output_type": "display_data"
    }
   ],
   "source": [
    "opt_params, loss_hist, train_acc_hist = results\n",
    "\n",
    "# Plot the learning curves\n",
    "plt.subplot(2, 1, 1)\n",
    "plt.title('Training loss')\n",
    "loss_hist_ = loss_hist[1::100] # sparse the curve a bit\n",
    "plt.plot(loss_hist_, '-o')\n",
    "plt.xlabel('Iteration')\n",
    "\n",
    "plt.subplot(2, 1, 2)\n",
    "plt.title('Accuracy')\n",
    "plt.plot(train_acc_hist, '-o', label='Training')\n",
    "plt.xlabel('Epoch')\n",
    "plt.legend(loc='lower right')\n",
    "plt.gcf().set_size_inches(15, 12)\n",
    "\n",
    "plt.show()"
   ]
  },
  {
   "cell_type": "markdown",
   "metadata": {},
   "source": [
    "Now you can generate a text using the trained model. You can also start from a specific word in the original text. If you trained your model with \"The Fox\", you can check how well it is modeled by starting from \"dog\", \"cat\", etc."
   ]
  },
  {
   "cell_type": "code",
   "execution_count": 113,
   "metadata": {},
   "outputs": [
    {
     "name": "stdout",
     "output_type": "stream",
     "text": [
      "you near when you say your prayers, try to understand i've made mistakes, i'm just a man  when he holds you close, when he pulls you near when he says the words you've been needing to hear i'll wish i was him 'cause those words are mine to say to you 'til the end of time  yeah, i will love you, baby, always and i'll be there forever and a day, always i'll be there 'til the stars don't shine 'til the heavens burst and the words don't rhyme and i know when i die, you'll be on\n"
     ]
    }
   ],
   "source": [
    "# you can change the generated text length below.\n",
    "text_length = 100\n",
    "\n",
    "idx = 0\n",
    "# you also can start from specific word. \n",
    "# since the words are all converted into lower case, make sure you put lower case below.\n",
    "idx = int(np.where(np.asarray(word_list) == 'you')[0])\n",
    "\n",
    "# sample from the trained model\n",
    "words = model.sample(idx, text_length-1)\n",
    "\n",
    "# convert indices into words\n",
    "output = [ word_list[i] for i in words]\n",
    "print(' '.join(output))"
   ]
  },
  {
   "cell_type": "markdown",
   "metadata": {},
   "source": [
    "### Inline Question: Play around with different settings to get better understanding of its behavior and describe your observation. Make sure at least you cover the following points:\n",
    "* Vanilla RNN vs LSTM (you can set different time steps and test with longer texts.)\n",
    "* Problems in these approaches (there's no unique answer. just explain your own opinion from experiments.)\n",
    "#### Ans: \n",
    "\n",
    "#### Typically LSTM outperforms RNN, as it does a better job at avoiding the vanishing gradient problem, and can model longer dependences. At Experiment 1, LSTM has better performance than VanillaRNN. \n",
    "\n",
    "#### However, the interesting result in exp 2 and 3, I added the a song call \"You give love a bad name\" into dataset, it is a song which has many duplicated sentances. And that cause RNN beat LSTM. I thought that the reason is probably the \"memory\" of repeating influence the result.\n",
    "\n",
    "####  At experiment 4, I removed the song. LSTM is better than Vanilla RNN again.\n",
    "\n",
    "\n",
    "\n",
    "### Experiment 1: \n",
    "I used only one song from bon jovi (Input text size: 261, Input word number: 103) to train this model.\n",
    "\n",
    "\n",
    "#### For RNN, start from \"you\", I got result: \n",
    "\n",
    "you live for the fight when it's all that you've got.  whoa, we're half-way there. whoa, livin' on a prayer. take my hand and we'll make it. i swear. whoa, livin' on a prayer.  tommy's got his six string in hock. now he's holding in what he used to make it talk. so tough, it's tough.  gina dreams of running away. when she cries in the night tommy whispers, \"baby, it's okay, someday.  we've gotta hold on to what we've got. it doesn't make a difference if we make it or not. we've got each other\n",
    "\n",
    "(Epoch 100 / 100) Training Accuracy: 0.9542857142857143\n",
    "\n",
    "\n",
    "#### For LSTM, start from \"you\", the result: \n",
    "\n",
    "you cries in the night tommy whispers, \"baby, it's okay, someday.  we've gotta hold on to what we've got. it doesn't make a difference if we make it or not. we've got each other and that's a lot. for love we'll give it a shot.\"  whoa, we're half-way there. whoa, livin' on a prayer. take my hand and we'll make it. i swear. whoa, livin' on a prayer.  livin' on a prayer.  we've gotta hold on to what we've got. it doesn't make a difference if we make it or not. we've got each other and\n",
    "\n",
    "Epoch 100 / 100) Training Accuracy: 0.9714285714285714\n",
    "\n",
    "#### LSTM has better performance than VanillaRNN. Empirically. The criteria is the performance on the validation set. Typically LSTM outperforms RNN, as it does a better job at avoiding the vanishing gradient problem, and can model longer dependences.\n",
    "\n",
    "\n",
    "### Experiment 2:\n",
    "I used four famous songs from bon jovi (Input text size: 1303, Input word number: 325) to train this model.\n",
    "\n",
    "#### For RNN, start from \"you\", I got result: \n",
    "\n",
    "you i would take a look at my face there's no price i won't pay to say these words to you  well, there ain't no luck in these loaded dice but, baby, if you give me just one more try we can pack up our old dreams and our old lives we'll find a place where the sun still shines  and i will love you, baby, always and i'll be there forever and a day, always i'll be there 'til the stars don't shine 'til the heavens burst and the words don't rhyme and i know when i\n",
    "\n",
    "(Epoch 100 / 100) Training Accuracy: 0.9742857142857143\n",
    "\n",
    "\n",
    "#### For LSTM, start from \"you\", the result: \n",
    "\n",
    "you play your game you give love a bad name (bad name) you give love a bad name (bad name) you give love a bad name (bad name) you give love a bad name (bad name) you give love a bad name (bad name) you give love a bad name (bad name) you give love a bad name (bad name) you give love a bad name (bad name) you give love a bad name (bad name) you give love a bad name (bad name) you give love a bad name (bad name) you give love a bad name (bad name)\n",
    "\n",
    "(Epoch 100 / 100) Training Accuracy: 0.9193548387096774\n",
    "#### Result is interesting, LSTM stucks in one song's lyrics, cause the performance is worse than VanillaRNN.\n",
    "\n",
    "### Experiment 3:\n",
    "data set is the same as experiment 2, but changing the T = 100, N = 100.\n",
    "\n",
    "#### For RNN, start from \"you\", I got result: \n",
    "\n",
    "you act so shy your very first kiss was your first kiss goodbye  i just want to live while i'm alive  (it's my life)  my heart is like an open highway  like frankie said  i did it my way  i just want to live while i'm alive  (it's my life)  my heart is like an open highway  like frankie said  i did it my way  i just want to live while i'm alive  (it's my life)  my heart is like an open highway  like frankie said\n",
    "\n",
    "(Epoch 100 / 100) Training Accuracy: 0.8087557603686636\n",
    "\n",
    "\n",
    "#### For LSTM, start from \"you\", the result: \n",
    "\n",
    "you love got i'd and you give and i play my part and you play your you give love a bad name (bad name) you give love a bad name (bad name) you give love a bad name (bad name) you give love a bad name (bad name) you give love a bad name (bad name) you give love a bad name (bad name) you give love a bad name (bad name) you give love a bad name (bad name) you give love a bad name (bad name) you give love a bad name (bad name) you give love a\n",
    "\n",
    "(Epoch 100 / 100) Training Accuracy: 0.7273425499231951\n",
    "#### Result is interesting, LSTM stucks in one song's lyrics, cause the performance is worse than VanillaRNN.\n",
    "\n",
    "\n",
    "### Experiment 4:\n",
    "change data set again, remove the duplicate one song, Input text size: 660 Input word number: 233\n",
    "\n",
    "#### For RNN, start from \"you\", I got result: \n",
    "\n",
    "you  and i will love you, baby, always and i'll be there forever and a day, always i'll be there 'til the stars don't shine 'til the heavens burst and the words don't rhyme and i know when i die, you'll be on my mind and i'll love you, always  once upon a time not so long ago.  tommy used to work on the docks. union's been on strike. he's down on his luck. it's tough, so tough.  gina works the diner all day. working for her man. she brings home her pay. for love, for\n",
    "\n",
    "(Epoch 100 / 100) Training Accuracy: 0.9726858877086495\n",
    "\n",
    "\n",
    "#### For LSTM, start from \"you\", the result: \n",
    "\n",
    "you near when you say your prayers, try to understand i've made mistakes, i'm just a man  when he holds you close, when he pulls you near when he says the words you've been needing to hear i'll wish i was him 'cause those words are mine to say to you 'til the end of time  yeah, i will love you, baby, always and i'll be there forever and a day, always i'll be there 'til the stars don't shine 'til the heavens burst and the words don't rhyme and i know when i die, you'll be on\n",
    "\n",
    "(Epoch 100 / 100) Training Accuracy: 0.9817905918057663\n",
    "\n",
    "#### LSTM has better performance than VanillaRNN again. The duplicated lyrics let the LSTM stuck in certain situaion, but remove the case, LSTM is better again."
   ]
  },
  {
   "cell_type": "code",
   "execution_count": null,
   "metadata": {
    "collapsed": true
   },
   "outputs": [],
   "source": []
  }
 ],
 "metadata": {
  "kernelspec": {
   "display_name": "Python 3",
   "language": "python",
   "name": "python3"
  },
  "language_info": {
   "codemirror_mode": {
    "name": "ipython",
    "version": 3
   },
   "file_extension": ".py",
   "mimetype": "text/x-python",
   "name": "python",
   "nbconvert_exporter": "python",
   "pygments_lexer": "ipython3",
   "version": "3.6.1"
  }
 },
 "nbformat": 4,
 "nbformat_minor": 1
}
